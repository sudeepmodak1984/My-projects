{
 "cells": [
  {
   "cell_type": "code",
   "execution_count": 2,
   "metadata": {},
   "outputs": [
    {
     "name": "stderr",
     "output_type": "stream",
     "text": [
      "Downloading Cal. housing from https://ndownloader.figshare.com/files/5976036 to /Users/vimal/scikit_learn_data\n"
     ]
    }
   ],
   "source": [
    "from sklearn.datasets import fetch_california_housing\n",
    "from sklearn.model_selection import train_test_split\n",
    "from sklearn.preprocessing import StandardScaler\n",
    "\n",
    "housing = fetch_california_housing()\n",
    "\n",
    "X_train_full, X_test, y_train_full, y_test = train_test_split(\n",
    "    housing.data, housing.target)\n",
    "X_train, X_valid, y_train, y_valid = train_test_split(\n",
    "    X_train_full, y_train_full)\n",
    "\n",
    "scaler = StandardScaler()\n",
    "X_train = scaler.fit_transform(X_train)\n",
    "X_valid = scaler.transform(X_valid)\n",
    "X_test = scaler.transform(X_test)"
   ]
  },
  {
   "cell_type": "code",
   "execution_count": 4,
   "metadata": {},
   "outputs": [
    {
     "data": {
      "text/plain": [
       "array([[   5.1391    ,    9.        ,    6.30993377, ...,    2.75099338,\n",
       "          38.27      , -122.65      ],\n",
       "       [   3.0296    ,   52.        ,    3.50481928, ...,    2.06144578,\n",
       "          37.79      , -122.41      ],\n",
       "       [   7.8336    ,   25.        ,    8.05501618, ...,    2.94822006,\n",
       "          32.79      , -117.07      ],\n",
       "       ...,\n",
       "       [   2.5949    ,   12.        ,    4.3858954 , ...,    2.4659271 ,\n",
       "          32.82      , -116.95      ],\n",
       "       [   6.5253    ,   26.        ,    7.2979664 , ...,    3.05923961,\n",
       "          34.14      , -117.83      ],\n",
       "       [   2.693     ,   37.        ,    4.27892562, ...,    2.        ,\n",
       "          32.75      , -117.13      ]])"
      ]
     },
     "execution_count": 4,
     "metadata": {},
     "output_type": "execute_result"
    }
   ],
   "source": [
    "X_train_full"
   ]
  },
  {
   "cell_type": "code",
   "execution_count": 6,
   "metadata": {},
   "outputs": [
    {
     "data": {
      "text/plain": [
       "array([[-1.54677374,  1.85092666, -1.40854469, ..., -0.08445615,\n",
       "        -1.34987352,  1.18657199],\n",
       "       [ 0.68892136, -0.92622195,  0.44577057, ...,  0.01289898,\n",
       "        -1.13396038,  1.25148412],\n",
       "       [-0.20050024,  1.85092666, -0.37152036, ..., -0.05451636,\n",
       "        -0.72090916,  0.59736961],\n",
       "       ...,\n",
       "       [ 0.72437445, -1.48165167,  0.55370394, ...,  0.02050394,\n",
       "         1.31149058, -0.91058901],\n",
       "       [ 1.47130189,  0.2639846 ,  0.68137534, ..., -0.01080519,\n",
       "        -0.664584  ,  0.45256564],\n",
       "       [-0.15030999,  0.97810853, -0.19795739, ...,  1.21397604,\n",
       "        -0.7162154 ,  0.68724794]])"
      ]
     },
     "execution_count": 6,
     "metadata": {},
     "output_type": "execute_result"
    }
   ],
   "source": [
    "X_train"
   ]
  },
  {
   "cell_type": "code",
   "execution_count": null,
   "metadata": {},
   "outputs": [],
   "source": []
  }
 ],
 "metadata": {
  "kernelspec": {
   "display_name": "Python 3",
   "language": "python",
   "name": "python3"
  },
  "language_info": {
   "codemirror_mode": {
    "name": "ipython",
    "version": 3
   },
   "file_extension": ".py",
   "mimetype": "text/x-python",
   "name": "python",
   "nbconvert_exporter": "python",
   "pygments_lexer": "ipython3",
   "version": "3.8.5"
  }
 },
 "nbformat": 4,
 "nbformat_minor": 4
}
